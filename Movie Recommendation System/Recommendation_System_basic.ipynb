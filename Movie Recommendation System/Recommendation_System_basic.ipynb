{
  "nbformat": 4,
  "nbformat_minor": 0,
  "metadata": {
    "colab": {
      "name": "Recommendation System basic.ipynb",
      "provenance": []
    },
    "kernelspec": {
      "name": "python3",
      "display_name": "Python 3"
    }
  },
  "cells": [
    {
      "cell_type": "code",
      "metadata": {
        "id": "j2cYryRDDsKb"
      },
      "source": [
        "import numpy as np\r\n",
        "import pandas as pd\r\n",
        "import matplotlib.pyplot as plt\r\n",
        "import seaborn as sns\r\n",
        "%matplotlib inline"
      ],
      "execution_count": null,
      "outputs": []
    },
    {
      "cell_type": "code",
      "metadata": {
        "id": "e0-XLrUVGvXz"
      },
      "source": [
        "from sklearn.feature_extraction.text import CountVectorizer"
      ],
      "execution_count": null,
      "outputs": []
    },
    {
      "cell_type": "code",
      "metadata": {
        "id": "p0zIY1VnHWLD"
      },
      "source": [
        "from sklearn.metrics.pairwise import cosine_similarity\r\n",
        "c = cosine_similarity(x)"
      ],
      "execution_count": null,
      "outputs": []
    },
    {
      "cell_type": "code",
      "metadata": {
        "colab": {
          "base_uri": "https://localhost:8080/"
        },
        "id": "f34dmA0aI5rv",
        "outputId": "93120d9b-ea46-47a9-c63f-35fc265fcb81"
      },
      "source": [
        "c"
      ],
      "execution_count": null,
      "outputs": [
        {
          "output_type": "execute_result",
          "data": {
            "text/plain": [
              "array([[1. , 0.8],\n",
              "       [0.8, 1. ]])"
            ]
          },
          "metadata": {
            "tags": []
          },
          "execution_count": 18
        }
      ]
    },
    {
      "cell_type": "code",
      "metadata": {
        "colab": {
          "base_uri": "https://localhost:8080/"
        },
        "id": "iuDW31mKKCOy",
        "outputId": "09ff0d3f-81f0-47ca-937a-8a3254cdd8e5"
      },
      "source": [
        "%cd /content/drive/MyDrive"
      ],
      "execution_count": null,
      "outputs": [
        {
          "output_type": "stream",
          "text": [
            "/content/drive/MyDrive\n"
          ],
          "name": "stdout"
        }
      ]
    },
    {
      "cell_type": "code",
      "metadata": {
        "colab": {
          "base_uri": "https://localhost:8080/"
        },
        "id": "xGosVBEsKCXD",
        "outputId": "1a64b919-64e7-4c6a-b92f-aee8bd65b32e"
      },
      "source": [
        "!git clone https://github.com/codeheroku/Introduction-to-Machine-Learning.git"
      ],
      "execution_count": null,
      "outputs": [
        {
          "output_type": "stream",
          "text": [
            "Cloning into 'Introduction-to-Machine-Learning'...\n",
            "remote: Enumerating objects: 8, done.\u001b[K\n",
            "remote: Counting objects: 100% (8/8), done.\u001b[K\n",
            "remote: Compressing objects: 100% (8/8), done.\u001b[K\n",
            "remote: Total 537 (delta 3), reused 0 (delta 0), pack-reused 529\u001b[K\n",
            "Receiving objects: 100% (537/537), 24.07 MiB | 9.83 MiB/s, done.\n",
            "Resolving deltas: 100% (172/172), done.\n",
            "Checking out files: 100% (356/356), done.\n"
          ],
          "name": "stdout"
        }
      ]
    },
    {
      "cell_type": "code",
      "metadata": {
        "id": "mGN8MpLAKCbU"
      },
      "source": [
        "df = pd.read_csv('/content/drive/MyDrive/Introduction-to-Machine-Learning/Building a Movie Recommendation Engine/movie_dataset.csv')"
      ],
      "execution_count": null,
      "outputs": []
    },
    {
      "cell_type": "code",
      "metadata": {
        "colab": {
          "base_uri": "https://localhost:8080/"
        },
        "id": "mz97OxPSKCeM",
        "outputId": "82a686f1-1c6f-4bc5-f341-0b6bad1eb001"
      },
      "source": [
        "##clean the data\r\n",
        "##feature engineering\r\n",
        "##modelling\r\n"
      ],
      "execution_count": null,
      "outputs": [
        {
          "output_type": "execute_result",
          "data": {
            "text/plain": [
              "RangeIndex(start=0, stop=4803, step=1)"
            ]
          },
          "metadata": {
            "tags": []
          },
          "execution_count": 25
        }
      ]
    },
    {
      "cell_type": "code",
      "metadata": {
        "colab": {
          "base_uri": "https://localhost:8080/"
        },
        "id": "Me0ZXr4kKCj5",
        "outputId": "e78b6244-3bb5-43bb-ade9-b2ffc8fe3cb0"
      },
      "source": [
        "import GlobalLibrary as G"
      ],
      "execution_count": null,
      "outputs": [
        {
          "output_type": "stream",
          "text": [
            "importing Jupyter notebook from /nbs/GlobalLibrary.ipynb\n"
          ],
          "name": "stdout"
        },
        {
          "output_type": "stream",
          "text": [
            "/usr/local/lib/python3.6/dist-packages/statsmodels/tools/_testing.py:19: FutureWarning: pandas.util.testing is deprecated. Use the functions in the public API at pandas.testing instead.\n",
            "  import pandas.util.testing as tm\n"
          ],
          "name": "stderr"
        },
        {
          "output_type": "stream",
          "text": [
            "Collecting pandasvault\n",
            "  Downloading https://files.pythonhosted.org/packages/66/70/70f2679fd15f13cc418bd8b5bc69c68a344315d75a6a501a6606fa5ba1b7/pandasvault-0.0.3.tar.gz\n",
            "Requirement already satisfied: pandas in /usr/local/lib/python3.6/dist-packages (from pandasvault) (1.1.5)\n",
            "Requirement already satisfied: numpy in /usr/local/lib/python3.6/dist-packages (from pandasvault) (1.19.4)\n",
            "Requirement already satisfied: sklearn in /usr/local/lib/python3.6/dist-packages (from pandasvault) (0.0)\n",
            "Requirement already satisfied: pytz>=2017.2 in /usr/local/lib/python3.6/dist-packages (from pandas->pandasvault) (2018.9)\n",
            "Requirement already satisfied: python-dateutil>=2.7.3 in /usr/local/lib/python3.6/dist-packages (from pandas->pandasvault) (2.8.1)\n",
            "Requirement already satisfied: scikit-learn in /usr/local/lib/python3.6/dist-packages (from sklearn->pandasvault) (0.22.2.post1)\n",
            "Requirement already satisfied: six>=1.5 in /usr/local/lib/python3.6/dist-packages (from python-dateutil>=2.7.3->pandas->pandasvault) (1.15.0)\n",
            "Requirement already satisfied: joblib>=0.11 in /usr/local/lib/python3.6/dist-packages (from scikit-learn->sklearn->pandasvault) (1.0.0)\n",
            "Requirement already satisfied: scipy>=0.17.0 in /usr/local/lib/python3.6/dist-packages (from scikit-learn->sklearn->pandasvault) (1.4.1)\n",
            "Building wheels for collected packages: pandasvault\n",
            "  Building wheel for pandasvault (setup.py) ... \u001b[?25l\u001b[?25hdone\n",
            "  Created wheel for pandasvault: filename=pandasvault-0.0.3-cp36-none-any.whl size=6493 sha256=5d410bc0fdf838d82bd3b32737fb875aaa476b62f83bf60041a8c7cd793c7b6c\n",
            "  Stored in directory: /root/.cache/pip/wheels/ae/6a/ee/1f31529eeba2dda5cffc612d17d4395ceadd1d8c51bec99688\n",
            "Successfully built pandasvault\n",
            "Installing collected packages: pandasvault\n",
            "Successfully installed pandasvault-0.0.3\n"
          ],
          "name": "stdout"
        }
      ]
    },
    {
      "cell_type": "code",
      "metadata": {
        "colab": {
          "base_uri": "https://localhost:8080/"
        },
        "id": "wwgA3ge8UU28",
        "outputId": "3f1e7cf6-2fb3-4393-8481-bedc05f0eff5"
      },
      "source": [
        "df.columns"
      ],
      "execution_count": null,
      "outputs": [
        {
          "output_type": "execute_result",
          "data": {
            "text/plain": [
              "Index(['index', 'budget', 'genres', 'homepage', 'id', 'keywords',\n",
              "       'original_language', 'original_title', 'overview', 'popularity',\n",
              "       'production_companies', 'production_countries', 'release_date',\n",
              "       'revenue', 'runtime', 'spoken_languages', 'status', 'tagline', 'title',\n",
              "       'vote_average', 'vote_count', 'cast', 'crew', 'director'],\n",
              "      dtype='object')"
            ]
          },
          "metadata": {
            "tags": []
          },
          "execution_count": 41
        }
      ]
    },
    {
      "cell_type": "code",
      "metadata": {
        "id": "IEnSFpQ8UYM-"
      },
      "source": [
        "cols = ['keywords','cast','genres','director']"
      ],
      "execution_count": null,
      "outputs": []
    },
    {
      "cell_type": "code",
      "metadata": {
        "id": "8deRUL5pUouZ"
      },
      "source": [
        ""
      ],
      "execution_count": null,
      "outputs": []
    },
    {
      "cell_type": "code",
      "metadata": {
        "colab": {
          "base_uri": "https://localhost:8080/",
          "height": 684
        },
        "id": "XOXZckyKOKiV",
        "outputId": "ab65c272-92c4-4416-e239-e6282a544665"
      },
      "source": [
        "G.show_missing1(df)"
      ],
      "execution_count": null,
      "outputs": [
        {
          "output_type": "stream",
          "text": [
            "The Number Features which have missing values are :  4\n"
          ],
          "name": "stdout"
        },
        {
          "output_type": "execute_result",
          "data": {
            "text/plain": [
              "keywords    412\n",
              "cast         43\n",
              "director     30\n",
              "genres       28\n",
              "dtype: int64"
            ]
          },
          "metadata": {
            "tags": []
          },
          "execution_count": 99
        },
        {
          "output_type": "display_data",
          "data": {
            "image/png": "[encoded data removed]",
            "text/plain": [
              "<Figure size 864x648 with 1 Axes>"
            ]
          },
          "metadata": {
            "tags": []
          }
        }
      ]
    },
    {
      "cell_type": "code",
      "metadata": {
        "colab": {
          "base_uri": "https://localhost:8080/"
        },
        "id": "tih4F4yCUTbu",
        "outputId": "41284a14-c8d6-48d0-f471-53d99a58f6ee"
      },
      "source": [
        "df.columns"
      ],
      "execution_count": null,
      "outputs": [
        {
          "output_type": "execute_result",
          "data": {
            "text/plain": [
              "Index(['keywords', 'cast', 'genres', 'director'], dtype='object')"
            ]
          },
          "metadata": {
            "tags": []
          },
          "execution_count": 100
        }
      ]
    },
    {
      "cell_type": "code",
      "metadata": {
        "colab": {
          "base_uri": "https://localhost:8080/"
        },
        "id": "4sOfyVTcVBGy",
        "outputId": "e094f0c8-06fc-41ab-bb5e-c4dc299c6293"
      },
      "source": [
        "df.info()"
      ],
      "execution_count": null,
      "outputs": [
        {
          "output_type": "stream",
          "text": [
            "<class 'pandas.core.frame.DataFrame'>\n",
            "RangeIndex: 4803 entries, 0 to 4802\n",
            "Data columns (total 4 columns):\n",
            " #   Column    Non-Null Count  Dtype \n",
            "---  ------    --------------  ----- \n",
            " 0   keywords  4391 non-null   object\n",
            " 1   cast      4760 non-null   object\n",
            " 2   genres    4775 non-null   object\n",
            " 3   director  4773 non-null   object\n",
            "dtypes: object(4)\n",
            "memory usage: 150.2+ KB\n"
          ],
          "name": "stdout"
        }
      ]
    },
    {
      "cell_type": "code",
      "metadata": {
        "id": "ASC-dl_wOVRE"
      },
      "source": [
        "def get_title_from_index(index):\r\n",
        "  return df[df.index == index]['title'].values[0]\r\n",
        "\r\n",
        "def get_index_from_title(title):\r\n",
        "  return df[df.title == title]['index'].values[0]\r\n"
      ],
      "execution_count": null,
      "outputs": []
    },
    {
      "cell_type": "code",
      "metadata": {
        "colab": {
          "base_uri": "https://localhost:8080/"
        },
        "id": "OdGF2AxsOVb1",
        "outputId": "83cc5f3f-b53c-4561-fd17-f858125c2df6"
      },
      "source": [
        "df.columns"
      ],
      "execution_count": null,
      "outputs": [
        {
          "output_type": "execute_result",
          "data": {
            "text/plain": [
              "Index(['index', 'budget', 'genres', 'homepage', 'id', 'keywords',\n",
              "       'original_language', 'original_title', 'overview', 'popularity',\n",
              "       'production_companies', 'production_countries', 'release_date',\n",
              "       'revenue', 'runtime', 'spoken_languages', 'status', 'tagline', 'title',\n",
              "       'vote_average', 'vote_count', 'cast', 'crew', 'director'],\n",
              "      dtype='object')"
            ]
          },
          "metadata": {
            "tags": []
          },
          "execution_count": 117
        }
      ]
    },
    {
      "cell_type": "code",
      "metadata": {
        "id": "x0mlLFFvVxE6"
      },
      "source": [
        ""
      ],
      "execution_count": null,
      "outputs": []
    },
    {
      "cell_type": "code",
      "metadata": {
        "id": "MTuBTG4DOVe9"
      },
      "source": [
        "for feature in cols:\r\n",
        "  df[feature].fillna('',inplace=True)"
      ],
      "execution_count": null,
      "outputs": []
    },
    {
      "cell_type": "code",
      "metadata": {
        "colab": {
          "base_uri": "https://localhost:8080/"
        },
        "id": "Zr6u987lZ7HK",
        "outputId": "e93318d7-2da8-481c-92fc-b65ddec30dbc"
      },
      "source": [
        "df.isnull().sum()"
      ],
      "execution_count": null,
      "outputs": [
        {
          "output_type": "execute_result",
          "data": {
            "text/plain": [
              "index                      0\n",
              "budget                     0\n",
              "genres                     0\n",
              "homepage                3091\n",
              "id                         0\n",
              "keywords                   0\n",
              "original_language          0\n",
              "original_title             0\n",
              "overview                   3\n",
              "popularity                 0\n",
              "production_companies       0\n",
              "production_countries       0\n",
              "release_date               1\n",
              "revenue                    0\n",
              "runtime                    2\n",
              "spoken_languages           0\n",
              "status                     0\n",
              "tagline                  844\n",
              "title                      0\n",
              "vote_average               0\n",
              "vote_count                 0\n",
              "cast                       0\n",
              "crew                       0\n",
              "director                   0\n",
              "dtype: int64"
            ]
          },
          "metadata": {
            "tags": []
          },
          "execution_count": 119
        }
      ]
    },
    {
      "cell_type": "code",
      "metadata": {
        "id": "hxTUKZOpOVh8"
      },
      "source": [
        "def combine_features(row):\r\n",
        "  try:\r\n",
        "    return row[\"cast\"]+row[\"director\"]+row[\"keywords\"]+row[\"genres\"]\r\n",
        "  except:\r\n",
        "    print(\"Error Row\",row)\r\n",
        "    "
      ],
      "execution_count": null,
      "outputs": []
    },
    {
      "cell_type": "code",
      "metadata": {
        "id": "FIPL8VKEXTwE"
      },
      "source": [
        "df[\"combined_features\"] = df.apply(combine_features,axis=1)"
      ],
      "execution_count": null,
      "outputs": []
    },
    {
      "cell_type": "code",
      "metadata": {
        "id": "1S8KCFeVZmtC"
      },
      "source": [
        "cv = CountVectorizer()\r\n",
        "count_matrix = cv.fit_transform(df[\"combined_features\"])\r\n",
        "cosine_sim = cosine_similarity(count_matrix)\r\n"
      ],
      "execution_count": null,
      "outputs": []
    },
    {
      "cell_type": "code",
      "metadata": {
        "id": "mboNCjYWZ5Ow"
      },
      "source": [
        "movie_user_likes = \"Avatar\"\r\n"
      ],
      "execution_count": null,
      "outputs": []
    },
    {
      "cell_type": "code",
      "metadata": {
        "colab": {
          "base_uri": "https://localhost:8080/"
        },
        "id": "nm7S-SEvanW0",
        "outputId": "d3df4b80-b7fd-4f65-edea-57ab95f3f91a"
      },
      "source": [
        "movie_index = get_index_from_title(movie_user_likes)\r\n",
        "\r\n",
        "similar_movies =  list(enumerate(cosine_sim[movie_index]))\r\n",
        "\r\n",
        "## Step 7: Get a list of similar movies in descending order of similarity score\r\n",
        "sorted_similar_movies = sorted(similar_movies,key=lambda x:x[1],reverse=True)\r\n",
        "\r\n",
        "## Step 8: Print titles of first 50 movies\r\n",
        "i=0\r\n",
        "for element in sorted_similar_movies:\r\n",
        "\t\tprint(get_title_from_index(element[0]))\r\n",
        "\t\ti=i+1\r\n",
        "\t\tif i>50:\r\n",
        "\t\t\tbreak"
      ],
      "execution_count": null,
      "outputs": [
        {
          "output_type": "stream",
          "text": [
            "Avatar\n",
            "Guardians of the Galaxy\n",
            "Alien\n",
            "Star Trek Beyond\n",
            "Planet of the Apes\n",
            "Moonraker\n",
            "Aliens\n",
            "Memoirs of an Invisible Man\n",
            "Star Wars: Clone Wars: Volume 1\n",
            "The Astronaut's Wife\n",
            "Space Dogs\n",
            "Star Trek Into Darkness\n",
            "Wing Commander\n",
            "Babylon A.D.\n",
            "Galaxina\n",
            "Oblivion\n",
            "Titan A.E.\n",
            "Jason X\n",
            "Galaxy Quest\n",
            "The Ice Pirates\n",
            "Alien³\n",
            "Jupiter Ascending\n",
            "John Carter\n",
            "Cargo\n",
            "The Wolverine\n",
            "Damnation Alley\n",
            "Men in Black\n",
            "Sheena\n",
            "The Helix... Loaded\n",
            "Men in Black II\n",
            "Treasure Planet\n",
            "Source Code\n",
            "Spaceballs\n",
            "Captain America: The Winter Soldier\n",
            "Lost in Space\n",
            "The Right Stuff\n",
            "Stargate: The Ark of Truth\n",
            "Star Trek\n",
            "Sunshine\n",
            "The Thing\n",
            "Silent Running\n",
            "Red Planet\n",
            "AVP: Alien vs. Predator\n",
            "Zathura: A Space Adventure\n",
            "Dragonball Evolution\n",
            "The Empire Strikes Back\n",
            "Time Bandits\n",
            "Trekkies\n",
            "American Hero\n",
            "Iron Man 3\n",
            "Terminator Salvation\n"
          ],
          "name": "stdout"
        }
      ]
    }
  ]
}